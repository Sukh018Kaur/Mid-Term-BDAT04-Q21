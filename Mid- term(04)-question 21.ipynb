{
 "cells": [
  {
   "cell_type": "markdown",
   "id": "96aa0da3",
   "metadata": {},
   "source": [
    "# Question 21"
   ]
  },
  {
   "cell_type": "markdown",
   "id": "5e974f4a",
   "metadata": {},
   "source": [
    "In a jupyter notebook solve the following question. Please upload the notebook to GitHub and provide the link submission box below.\n",
    "\n",
    " \n",
    "\n",
    "__int()__: Constructor that takes as input a pair of Point objects that represent the ends points of the line segment\n",
    "\n",
    "Length():: returns the length if the segment \n",
    "\n",
    "Slope() returns the slope of the segment of none if the slope is unbounded \n",
    "\n",
    " \n",
    "\n",
    ">>> p1 = Point(3,4)\n",
    "\n",
    ">>> p2 = Point()\n",
    "\n",
    ">>> s = Segment(p1,p2)\n",
    "\n",
    ">>> s.length()\n",
    "\n",
    "5.0\n",
    "\n",
    ">>> s.slope()\n",
    "\n",
    "0.75"
   ]
  },
  {
   "cell_type": "code",
   "execution_count": 1,
   "id": "a40377e5",
   "metadata": {},
   "outputs": [
    {
     "name": "stdout",
     "output_type": "stream",
     "text": [
      "5.0\n",
      "1.3333333333333333\n"
     ]
    }
   ],
   "source": [
    "class Point:\n",
    "    def __init__(self, x=0, y=0):\n",
    "        self.x = x\n",
    "        self.y = y\n",
    "\n",
    "class Segment:\n",
    "    def __init__(self, start, end):\n",
    "        self.start = start\n",
    "        self.end = end\n",
    "\n",
    "    def length(self):\n",
    "        return ((self.end.x - self.start.x) ** 2 + (self.end.y - self.start.y) ** 2) ** 0.5\n",
    "\n",
    "    def slope(self):\n",
    "        if self.end.x - self.start.x != 0:\n",
    "            return (self.end.y - self.start.y) / (self.end.x - self.start.x)\n",
    "        else:\n",
    "            return None\n",
    "\n",
    "p1 = Point(3, 4)\n",
    "p2 = Point()\n",
    "s = Segment(p1, p2)\n",
    "\n",
    "print(s.length())  \n",
    "print(s.slope())  "
   ]
  },
  {
   "cell_type": "code",
   "execution_count": null,
   "id": "33ba1965",
   "metadata": {},
   "outputs": [],
   "source": []
  }
 ],
 "metadata": {
  "kernelspec": {
   "display_name": "Python 3 (ipykernel)",
   "language": "python",
   "name": "python3"
  },
  "language_info": {
   "codemirror_mode": {
    "name": "ipython",
    "version": 3
   },
   "file_extension": ".py",
   "mimetype": "text/x-python",
   "name": "python",
   "nbconvert_exporter": "python",
   "pygments_lexer": "ipython3",
   "version": "3.11.4"
  }
 },
 "nbformat": 4,
 "nbformat_minor": 5
}
